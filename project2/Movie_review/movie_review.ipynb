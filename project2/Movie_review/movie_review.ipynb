{
 "cells": [
  {
   "cell_type": "code",
   "execution_count": 1,
   "metadata": {},
   "outputs": [],
   "source": [
    "import pandas as pd\n",
    "import numpy as np\n",
    "import matplotlib.pyplot as plt\n"
   ]
  },
  {
   "cell_type": "code",
   "execution_count": 3,
   "metadata": {},
   "outputs": [],
   "source": [
    "# 훈련용 데이터와 테스트용 데이터를 불러옵니다.\n",
    "# '\\t'는 데이터가 탭(tab)으로 구분되어 있다는 의미입니다.\n",
    "train_df = pd.read_csv('./review_dataset/ratings_train.txt', sep='\\t')\n",
    "test_df = pd.read_csv('./review_dataset/ratings_test.txt', sep='\\t')\n"
   ]
  },
  {
   "cell_type": "code",
   "execution_count": 4,
   "metadata": {},
   "outputs": [
    {
     "name": "stdout",
     "output_type": "stream",
     "text": [
      "         id                                           document  label\n",
      "0   9976970                                아 더빙.. 진짜 짜증나네요 목소리      0\n",
      "1   3819312                  흠...포스터보고 초딩영화줄....오버연기조차 가볍지 않구나      1\n",
      "2  10265843                                  너무재밓었다그래서보는것을추천한다      0\n",
      "3   9045019                      교도소 이야기구먼 ..솔직히 재미는 없다..평점 조정      0\n",
      "4   6483659  사이몬페그의 익살스런 연기가 돋보였던 영화!스파이더맨에서 늙어보이기만 했던 커스틴 ...      1\n"
     ]
    }
   ],
   "source": [
    "# 데이터가 어떻게 생겼는지 상위 5개만 출력해봅니다.\n",
    "print(train_df.head())\n"
   ]
  },
  {
   "cell_type": "code",
   "execution_count": 5,
   "metadata": {},
   "outputs": [
    {
     "name": "stdout",
     "output_type": "stream",
     "text": [
      "<class 'pandas.core.frame.DataFrame'>\n",
      "RangeIndex: 150000 entries, 0 to 149999\n",
      "Data columns (total 3 columns):\n",
      " #   Column    Non-Null Count   Dtype \n",
      "---  ------    --------------   ----- \n",
      " 0   id        150000 non-null  int64 \n",
      " 1   document  149995 non-null  object\n",
      " 2   label     150000 non-null  int64 \n",
      "dtypes: int64(2), object(1)\n",
      "memory usage: 3.4+ MB\n",
      "None\n"
     ]
    }
   ],
   "source": [
    "# 훈련용 데이터의 전체적인 정보를 확인합니다.\n",
    "print(train_df.info())\n"
   ]
  },
  {
   "cell_type": "code",
   "execution_count": 6,
   "metadata": {},
   "outputs": [
    {
     "name": "stdout",
     "output_type": "stream",
     "text": [
      "label\n",
      "0    75173\n",
      "1    74827\n",
      "Name: count, dtype: int64\n"
     ]
    }
   ],
   "source": [
    "# 긍정(1) 리뷰와 부정(0) 리뷰가 각각 몇 개인지 확인합니다.\n",
    "print(train_df['label'].value_counts())\n"
   ]
  },
  {
   "cell_type": "code",
   "execution_count": 7,
   "metadata": {},
   "outputs": [
    {
     "name": "stdout",
     "output_type": "stream",
     "text": [
      "결측치 확인 전: id          0\n",
      "document    5\n",
      "label       0\n",
      "dtype: int64\n",
      "결측치 확인 전: id          0\n",
      "document    3\n",
      "label       0\n",
      "dtype: int64\n",
      "결측치 확인 후: id          0\n",
      "document    0\n",
      "label       0\n",
      "dtype: int64\n",
      "결측치 확인 후: id          0\n",
      "document    0\n",
      "label       0\n",
      "dtype: int64\n",
      "중복 데이터 개수: 146182 / 149995\n",
      "중복 데이터 개수: 49157 / 49997\n",
      "중복 제거 후 개수: 146182\n",
      "중복 제거 후 개수: 49157\n"
     ]
    }
   ],
   "source": [
    "# 1. 결측치 확인: 'document' 열에 비어있는 값이 있는지 확인합니다.\n",
    "print('결측치 확인 전:', train_df.isnull().sum())\n",
    "print('결측치 확인 전:', test_df.isnull().sum())\n",
    "\n",
    "# 2. 결측치 제거: 비어있는 행(row)을 제거합니다.\n",
    "train_df = train_df.dropna(subset=['document'])\n",
    "test_df = test_df.dropna(subset=['document'])\n",
    "print('결측치 확인 후:', train_df.isnull().sum())\n",
    "print('결측치 확인 후:', test_df.isnull().sum())\n",
    "\n",
    "# 3. 중복 데이터 확인: 중복된 리뷰가 있는지 확인합니다.\n",
    "print('중복 데이터 개수:', train_df['document'].nunique(), '/', len(train_df))\n",
    "print('중복 데이터 개수:', test_df['document'].nunique(), '/', len(test_df))\n",
    "\n",
    "# 4. 중복 데이터 제거: 중복된 리뷰를 제거합니다.\n",
    "train_df.drop_duplicates(subset=['document'], inplace=True)\n",
    "print('중복 제거 후 개수:', len(train_df))\n",
    "test_df.drop_duplicates(subset=['document'], inplace=True)\n",
    "print('중복 제거 후 개수:', len(test_df))\n"
   ]
  },
  {
   "cell_type": "code",
   "execution_count": 7,
   "metadata": {},
   "outputs": [
    {
     "name": "stdout",
     "output_type": "stream",
     "text": [
      "count    146182.000000\n",
      "mean         35.981338\n",
      "std          29.491233\n",
      "min           1.000000\n",
      "25%          16.000000\n",
      "50%          27.000000\n",
      "75%          43.000000\n",
      "max         146.000000\n",
      "Name: length, dtype: float64\n"
     ]
    }
   ],
   "source": [
    "# 각 리뷰의 길이를 계산해서 새로운 'length' 열을 추가합니다.\n",
    "train_df['length'] = train_df['document'].apply(len)\n",
    "\n",
    "# 리뷰 길이의 통계 정보를 확인합니다. (평균, 표준편차, 최대/최소 등)\n",
    "print(train_df['length'].describe())\n"
   ]
  },
  {
   "cell_type": "code",
   "execution_count": 8,
   "metadata": {},
   "outputs": [
    {
     "data": {
      "image/png": "[encoded data removed]",
      "text/plain": [
       "<Figure size 640x480 with 1 Axes>"
      ]
     },
     "metadata": {},
     "output_type": "display_data"
    }
   ],
   "source": [
    "# 리뷰 길이 분포를 히스토그램으로 시각화합니다.\n",
    "plt.hist(train_df['length'], bins=50)\n",
    "plt.xlabel('length of review')\n",
    "plt.ylabel('number of review')\n",
    "plt.show()"
   ]
  },
  {
   "cell_type": "code",
   "execution_count": 9,
   "metadata": {},
   "outputs": [
    {
     "name": "stderr",
     "output_type": "stream",
     "text": [
      "/home/asd/rec_env/lib/python3.9/site-packages/sklearn/feature_extraction/text.py:517: UserWarning: The parameter 'token_pattern' will not be used since 'tokenizer' is not None'\n",
      "  warnings.warn(\n"
     ]
    }
   ],
   "source": [
    "from konlpy.tag import Okt\n",
    "from sklearn.feature_extraction.text import TfidfVectorizer\n",
    "from sklearn.model_selection import train_test_split\n",
    "import joblib  # scikit-learn 객체를 저장하기 위한 라이브러리\n",
    "from scipy.sparse import save_npz, load_npz # 희소 행렬을 저장하기 위한 라이브러리\n",
    "\n",
    "# Okt 객체 생성 (형태소 분석기)\n",
    "okt = Okt()\n",
    "\n",
    "def okt_tokenizer(text):\n",
    "    # 형태소 단위로 나누고, 어간을 추출합니다.\n",
    "    return okt.morphs(text, stem=True)\n",
    "\n",
    "# TF-IDF 벡터화 객체 생성\n",
    "tfidf = TfidfVectorizer(tokenizer=okt_tokenizer, ngram_range=(1, 2), min_df=3, max_df=0.9)\n",
    "\n",
    "# train_df의 'document' 열을 TF-IDF 행렬로 변환\n",
    "tfidf.fit(train_df['document'])\n",
    "X_train = tfidf.transform(train_df['document'])\n",
    "X_test = tfidf.transform(test_df['document'])\n",
    "\n",
    "# 정답 데이터(label) 준비\n",
    "y_train = train_df['label']\n",
    "y_test = test_df['label']"
   ]
  },
  {
   "cell_type": "code",
   "execution_count": 10,
   "metadata": {},
   "outputs": [
    {
     "name": "stdout",
     "output_type": "stream",
     "text": [
      "모든 전처리 결과가 파일로 저장되었습니다.\n"
     ]
    }
   ],
   "source": [
    "# --- 3. 결과물 파일로 저장하기 ---\n",
    "joblib.dump(tfidf, './review_dataset/tfidf_vectorizer.pkl')\n",
    "\n",
    "# 변환된 데이터(숫자 행렬)를 저장\n",
    "save_npz('./review_dataset/X_train_tfidf.npz', X_train)\n",
    "save_npz('./review_dataset/X_test_tfidf.npz', X_test)\n",
    "\n",
    "# 정답 데이터도 함께 저장 (데이터-정답 짝을 맞추기 위함)\n",
    "y_train.to_csv('./review_dataset/y_train.csv', index=False)\n",
    "y_test.to_csv('./review_dataset/y_test.csv', index=False)\n",
    "\n",
    "print(\"모든 전처리 결과가 파일로 저장되었습니다.\")"
   ]
  },
  {
   "cell_type": "code",
   "execution_count": 11,
   "metadata": {},
   "outputs": [
    {
     "name": "stdout",
     "output_type": "stream",
     "text": [
      " 저장된 전처리 파일을 성공적으로 불러왔습니다.\n"
     ]
    }
   ],
   "source": [
    "import joblib\n",
    "from scipy.sparse import load_npz\n",
    "import pandas as pd\n",
    "from konlpy.tag import Okt\n",
    "\n",
    "okt = Okt()\n",
    "def okt_tokenizer(text):\n",
    "    return okt.morphs(text, stem=True)\n",
    "\n",
    "# --- 저장된 전처리 결과물 불러오기 ---\n",
    "\n",
    "# TfidfVectorizer 객체를 불러오기\n",
    "tfidf = joblib.load('./review_dataset/tfidf_vectorizer.pkl')\n",
    "\n",
    "# 변환된 데이터(숫자 행렬)를 불러오기\n",
    "X_train = load_npz('./review_dataset/X_train_tfidf.npz')\n",
    "X_test = load_npz('./review_dataset/X_test_tfidf.npz')\n",
    "\n",
    "# 정답 데이터를 불러오기\n",
    "y_train = pd.read_csv('./review_dataset/y_train.csv')['label']\n",
    "y_test = pd.read_csv('./review_dataset/y_test.csv')['label']\n",
    "\n",
    "print(\" 저장된 전처리 파일을 성공적으로 불러왔습니다.\")\n"
   ]
  },
  {
   "cell_type": "code",
   "execution_count": 12,
   "metadata": {},
   "outputs": [
    {
     "name": "stdout",
     "output_type": "stream",
     "text": [
      " Baseline 모델 정확도: 86.75%\n"
     ]
    }
   ],
   "source": [
    "from sklearn.linear_model import LogisticRegression\n",
    "from sklearn.metrics import accuracy_score\n",
    "\n",
    "# 로지스틱 회귀 모델 생성 및 학습\n",
    "lr_model = LogisticRegression(random_state=0, C=3.5, max_iter=1000)\n",
    "lr_model.fit(X_train, y_train)\n",
    "\n",
    "# 테스트 데이터로 예측 및 정확도 평가\n",
    "y_pred = lr_model.predict(X_test)\n",
    "accuracy = accuracy_score(y_test, y_pred)\n",
    "print(f\" Baseline 모델 정확도: {accuracy*100:.2f}%\")"
   ]
  },
  {
   "cell_type": "code",
   "execution_count": 13,
   "metadata": {},
   "outputs": [
    {
     "name": "stderr",
     "output_type": "stream",
     "text": [
      "/home/asd/rec_env/lib/python3.9/site-packages/tqdm/auto.py:21: TqdmWarning: IProgress not found. Please update jupyter and ipywidgets. See https://ipywidgets.readthedocs.io/en/stable/user_install.html\n",
      "  from .autonotebook import tqdm as notebook_tqdm\n",
      "2025-09-14 14:15:23.904702: E external/local_xla/xla/stream_executor/cuda/cuda_dnn.cc:9261] Unable to register cuDNN factory: Attempting to register factory for plugin cuDNN when one has already been registered\n",
      "2025-09-14 14:15:23.904796: E external/local_xla/xla/stream_executor/cuda/cuda_fft.cc:607] Unable to register cuFFT factory: Attempting to register factory for plugin cuFFT when one has already been registered\n",
      "2025-09-14 14:15:23.955106: E external/local_xla/xla/stream_executor/cuda/cuda_blas.cc:1515] Unable to register cuBLAS factory: Attempting to register factory for plugin cuBLAS when one has already been registered\n",
      "2025-09-14 14:15:24.056351: I tensorflow/core/platform/cpu_feature_guard.cc:182] This TensorFlow binary is optimized to use available CPU instructions in performance-critical operations.\n",
      "To enable the following instructions: AVX2 FMA, in other operations, rebuild TensorFlow with the appropriate compiler flags.\n",
      "2025-09-14 14:15:25.067672: W tensorflow/compiler/tf2tensorrt/utils/py_utils.cc:38] TF-TRT Warning: Could not find TensorRT\n",
      "Some weights of ElectraForSequenceClassification were not initialized from the model checkpoint at beomi/kcELECTRA-base-v2022 and are newly initialized: ['classifier.dense.bias', 'classifier.dense.weight', 'classifier.out_proj.bias', 'classifier.out_proj.weight']\n",
      "You should probably TRAIN this model on a down-stream task to be able to use it for predictions and inference.\n"
     ]
    }
   ],
   "source": [
    "from transformers import AutoTokenizer, AutoModelForSequenceClassification\n",
    "\n",
    "# 사용할 모델의 이름을 지정합니다. (kcELECTRA는 한국어 데이터로 잘 학습된 모델 중 하나입니다)\n",
    "MODEL_NAME = \"beomi/kcELECTRA-base-v2022\"\n",
    "\n",
    "# 모델 이름에 맞는 토크나이저와 모델을 불러옵니다.\n",
    "tokenizer = AutoTokenizer.from_pretrained(MODEL_NAME)\n",
    "model = AutoModelForSequenceClassification.from_pretrained(MODEL_NAME, num_labels=2) # 긍정/부정 2개로 분류"
   ]
  },
  {
   "cell_type": "code",
   "execution_count": 14,
   "metadata": {},
   "outputs": [
    {
     "name": "stdout",
     "output_type": "stream",
     "text": [
      "입력 ID: tensor([[    2,  2700,  9556,  8023, 12386,  7985,     5,     3,     0,     0,\n",
      "             0,     0,     0,     0,     0,     0,     0,     0,     0,     0]])\n",
      "어텐션 마스크: tensor([[1, 1, 1, 1, 1, 1, 1, 1, 0, 0, 0, 0, 0, 0, 0, 0, 0, 0, 0, 0]])\n"
     ]
    }
   ],
   "source": [
    "# 예시 문장\n",
    "text = \"이 영화 정말 재밌네요!\"\n",
    "\n",
    "# 토크나이저로 문장을 인코딩합니다.\n",
    "inputs = tokenizer.encode_plus(\n",
    "    text,\n",
    "    None,\n",
    "    add_special_tokens=True, # [CLS], [SEP] 같은 특수 토큰 추가\n",
    "    max_length=20,           # 최대 길이를 20으로 설정\n",
    "    padding='max_length',    # max_length에 맞춰 나머지를 0으로 채움(패딩)\n",
    "    truncation=True,         # max_length를 넘는 부분은 잘라냄\n",
    "    return_tensors='pt'      # PyTorch 텐서로 반환\n",
    ")\n",
    "\n",
    "# 결과 확인\n",
    "print('입력 ID:', inputs['input_ids'])\n",
    "print('어텐션 마스크:', inputs['attention_mask'])"
   ]
  },
  {
   "cell_type": "code",
   "execution_count": 15,
   "metadata": {},
   "outputs": [],
   "source": [
    "from torch.utils.data import Dataset\n",
    "import torch\n",
    "\n",
    "class NSMCDataset(Dataset):\n",
    "    def __init__(self, dataframe, tokenizer, max_len):\n",
    "        self.tokenizer = tokenizer\n",
    "        self.data = dataframe\n",
    "        self.max_len = max_len\n",
    "        \n",
    "    def __len__(self):\n",
    "        return len(self.data)\n",
    "        \n",
    "    def __getitem__(self, index):\n",
    "        # 1. 행(row)에서 리뷰 텍스트와 라벨을 가져옵니다.\n",
    "        review = str(self.data.iloc[index]['document'])\n",
    "        label = self.data.iloc[index]['label']\n",
    "        \n",
    "        # 2. 텍스트를 토큰화합니다.\n",
    "        inputs = self.tokenizer.encode_plus(\n",
    "            review,\n",
    "            None,\n",
    "            add_special_tokens=True,\n",
    "            max_length=self.max_len,\n",
    "            padding='max_length',\n",
    "            truncation=True,\n",
    "            return_tensors='pt'\n",
    "        )\n",
    "        \n",
    "        # 3. 필요한 정보들을 딕셔너리 형태로 반환합니다.\n",
    "        return {\n",
    "            'input_ids': inputs['input_ids'].flatten(),\n",
    "            'attention_mask': inputs['attention_mask'].flatten(),\n",
    "            'labels': torch.tensor(label, dtype=torch.long)\n",
    "        }"
   ]
  },
  {
   "cell_type": "code",
   "execution_count": 16,
   "metadata": {},
   "outputs": [],
   "source": [
    "from torch.utils.data import DataLoader\n",
    "\n",
    "# 1. 하이퍼파라미터(Hyperparameter)로 MAX_LEN 값을 정의합니다.\n",
    "\n",
    "MAX_LEN = 128 \n",
    "BATCH_SIZE = 16 # 배치 사이즈도 여기서 함께 정의하면 좋습니다.\n",
    "\n",
    "# 2. Dataset 객체를 생성할 때 max_len 인자로 전달합니다.\n",
    "train_dataset = NSMCDataset(\n",
    "    dataframe=train_df,\n",
    "    tokenizer=tokenizer,\n",
    "    max_len=MAX_LEN\n",
    ")\n",
    "\n",
    "test_dataset = NSMCDataset(\n",
    "    dataframe=test_df,\n",
    "    tokenizer=tokenizer,\n",
    "    max_len=MAX_LEN\n",
    ")\n",
    "\n",
    "# 3. 생성된 Dataset으로 DataLoader를 만듭니다.\n",
    "train_dataloader = DataLoader(train_dataset, batch_size=BATCH_SIZE, shuffle=True)\n",
    "test_dataloader = DataLoader(test_dataset, batch_size=BATCH_SIZE)"
   ]
  },
  {
   "cell_type": "code",
   "execution_count": 17,
   "metadata": {},
   "outputs": [
    {
     "name": "stdout",
     "output_type": "stream",
     "text": [
      "torch.Size([16, 128])\n"
     ]
    }
   ],
   "source": [
    "# 4. 데이터가 잘 만들어졌는지 하나 꺼내서 확인해볼 수 있습니다.\n",
    "data = next(iter(train_dataloader))\n",
    "print(data['input_ids'].shape) # 결과: torch.Size([16, 128]) -> (배치사이즈, max_len"
   ]
  },
  {
   "cell_type": "code",
   "execution_count": 20,
   "metadata": {},
   "outputs": [],
   "source": [
    "from torch.optim import AdamW\n",
    "from transformers import get_linear_schedule_with_warmup\n",
    "import torch.nn as nn\n",
    "\n",
    "# GPU 장치 설정\n",
    "device = torch.device(\"cuda:0\" if torch.cuda.is_available() else \"cpu\")\n",
    "model.to(device)\n",
    "\n",
    "# 옵티마이저 설정\n",
    "# AdamW는 트랜스포머 모델 튜닝에 효과적인 옵티마이저입니다.\n",
    "optimizer = AdamW(\n",
    "    model.parameters(),\n",
    "    lr=2e-5, # 학습률 (learning rate)\n",
    ")\n",
    "\n",
    "# 학습 에폭(epoch) 수\n",
    "N_EPOCHS = 3\n",
    "\n",
    "# 전체 학습 스텝 수 계산\n",
    "total_steps = len(train_dataloader) * N_EPOCHS\n",
    "\n",
    "# 학습률을 점진적으로 감소시키는 스케줄러 설정\n",
    "scheduler = get_linear_schedule_with_warmup(\n",
    "    optimizer,\n",
    "    num_warmup_steps=0,\n",
    "    num_training_steps=total_steps\n",
    ")\n",
    "\n",
    "# 손실 함수 정의\n",
    "loss_fn = nn.CrossEntropyLoss().to(device)"
   ]
  },
  {
   "cell_type": "code",
   "execution_count": 21,
   "metadata": {},
   "outputs": [],
   "source": [
    "# 1 에폭 동안 모델을 학습시키는 함수\n",
    "def train_epoch(model, data_loader, loss_fn, optimizer, device, scheduler):\n",
    "    model.train() # 모델을 학습 모드로 설정\n",
    "    losses = []\n",
    "    correct_predictions = 0\n",
    "    \n",
    "    for d in data_loader:\n",
    "        input_ids = d[\"input_ids\"].to(device)\n",
    "        attention_mask = d[\"attention_mask\"].to(device)\n",
    "        labels = d[\"labels\"].to(device)\n",
    "        \n",
    "        # 모델 출력 계산\n",
    "        outputs = model(\n",
    "            input_ids=input_ids,\n",
    "            attention_mask=attention_mask\n",
    "        )\n",
    "        \n",
    "        # 정확도 계산\n",
    "        _, preds = torch.max(outputs.logits, dim=1)\n",
    "        correct_predictions += torch.sum(preds == labels)\n",
    "        \n",
    "        # 손실(loss) 계산\n",
    "        loss = loss_fn(outputs.logits, labels)\n",
    "        losses.append(loss.item())\n",
    "        \n",
    "        # 역전파\n",
    "        loss.backward()\n",
    "        optimizer.step()\n",
    "        scheduler.step()\n",
    "        optimizer.zero_grad()\n",
    "        \n",
    "    return correct_predictions.double() / len(data_loader.dataset), np.mean(losses)\n",
    "\n",
    "# 모델의 성능을 평가하는 함수\n",
    "def eval_model(model, data_loader, loss_fn, device):\n",
    "    model.eval() # 모델을 평가 모드로 설정\n",
    "    losses = []\n",
    "    correct_predictions = 0\n",
    "    \n",
    "    with torch.no_grad(): # 기울기 계산 비활성화\n",
    "        for d in data_loader:\n",
    "            input_ids = d[\"input_ids\"].to(device)\n",
    "            attention_mask = d[\"attention_mask\"].to(device)\n",
    "            labels = d[\"labels\"].to(device)\n",
    "            \n",
    "            outputs = model(\n",
    "                input_ids=input_ids,\n",
    "                attention_mask=attention_mask\n",
    "            )\n",
    "            \n",
    "            _, preds = torch.max(outputs.logits, dim=1)\n",
    "            correct_predictions += torch.sum(preds == labels)\n",
    "            \n",
    "            loss = loss_fn(outputs.logits, labels)\n",
    "            losses.append(loss.item())\n",
    "            \n",
    "    return correct_predictions.double() / len(data_loader.dataset), np.mean(losses)"
   ]
  },
  {
   "cell_type": "code",
   "execution_count": 22,
   "metadata": {},
   "outputs": [
    {
     "name": "stdout",
     "output_type": "stream",
     "text": [
      "Epoch 1/3\n",
      "----------\n",
      "Train loss 0.2279 accuracy 0.9085\n",
      "Val   loss 0.1965 accuracy 0.9226\n",
      "\n",
      "Epoch 2/3\n",
      "----------\n",
      "Train loss 0.1414 accuracy 0.9476\n",
      "Val   loss 0.2053 accuracy 0.9250\n",
      "\n",
      "Epoch 3/3\n",
      "----------\n",
      "Train loss 0.0829 accuracy 0.9715\n",
      "Val   loss 0.2454 accuracy 0.9257\n",
      "\n",
      "최고 검증 정확도: 0.9257\n"
     ]
    }
   ],
   "source": [
    "from collections import defaultdict\n",
    "\n",
    "history = defaultdict(list)\n",
    "best_accuracy = 0\n",
    "\n",
    "for epoch in range(N_EPOCHS):\n",
    "    print(f'Epoch {epoch + 1}/{N_EPOCHS}')\n",
    "    print('-' * 10)\n",
    "    \n",
    "    # 훈련\n",
    "    train_acc, train_loss = train_epoch(\n",
    "        model,\n",
    "        train_dataloader,\n",
    "        loss_fn,\n",
    "        optimizer,\n",
    "        device,\n",
    "        scheduler\n",
    "    )\n",
    "    print(f'Train loss {train_loss:.4f} accuracy {train_acc:.4f}')\n",
    "    \n",
    "    # 평가\n",
    "    val_acc, val_loss = eval_model(\n",
    "        model,\n",
    "        test_dataloader, # test_dataloader를 검증용으로 사용\n",
    "        loss_fn,\n",
    "        device\n",
    "    )\n",
    "    print(f'Val   loss {val_loss:.4f} accuracy {val_acc:.4f}')\n",
    "    print()\n",
    "    \n",
    "    # 기록\n",
    "    history['train_acc'].append(train_acc)\n",
    "    history['train_loss'].append(train_loss)\n",
    "    history['val_acc'].append(val_acc)\n",
    "    history['val_loss'].append(val_loss)\n",
    "    \n",
    "    # 가장 성능이 좋은 모델 저장\n",
    "    if val_acc > best_accuracy:\n",
    "        torch.save(model.state_dict(), 'best_model_state.bin')\n",
    "        best_accuracy = val_acc\n",
    "\n",
    "print(f\"최고 검증 정확도: {best_accuracy:.4f}\")"
   ]
  }
 ],
 "metadata": {
  "kernelspec": {
   "display_name": "rec_env",
   "language": "python",
   "name": "python3"
  },
  "language_info": {
   "codemirror_mode": {
    "name": "ipython",
    "version": 3
   },
   "file_extension": ".py",
   "mimetype": "text/x-python",
   "name": "python",
   "nbconvert_exporter": "python",
   "pygments_lexer": "ipython3",
   "version": "3.9.22"
  }
 },
 "nbformat": 4,
 "nbformat_minor": 2
}
